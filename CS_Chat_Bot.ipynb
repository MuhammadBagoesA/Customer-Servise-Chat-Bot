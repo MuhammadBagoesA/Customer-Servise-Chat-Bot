{
  "nbformat": 4,
  "nbformat_minor": 0,
  "metadata": {
    "colab": {
      "provenance": [],
      "toc_visible": true,
      "authorship_tag": "ABX9TyNIta5afcbvOFpiia/OVM6C",
      "include_colab_link": true
    },
    "kernelspec": {
      "name": "python3",
      "display_name": "Python 3"
    },
    "language_info": {
      "name": "python"
    }
  },
  "cells": [
    {
      "cell_type": "markdown",
      "metadata": {
        "id": "view-in-github",
        "colab_type": "text"
      },
      "source": [
        "<a href=\"https://colab.research.google.com/github/MuhammadBagoesA/Customer-Servise-Chat-Bot/blob/main/CS_Chat_Bot.ipynb\" target=\"_parent\"><img src=\"https://colab.research.google.com/assets/colab-badge.svg\" alt=\"Open In Colab\"/></a>"
      ]
    },
    {
      "cell_type": "code",
      "source": [
        "from google.colab import drive\n",
        "drive.mount('/content/drive')"
      ],
      "metadata": {
        "colab": {
          "base_uri": "https://localhost:8080/"
        },
        "id": "brxGF_ux7kmK",
        "outputId": "61e9714d-9517-420f-c47d-0829ca23fcba"
      },
      "execution_count": null,
      "outputs": [
        {
          "output_type": "stream",
          "name": "stdout",
          "text": [
            "Mounted at /content/drive\n"
          ]
        }
      ]
    },
    {
      "cell_type": "code",
      "execution_count": null,
      "metadata": {
        "colab": {
          "base_uri": "https://localhost:8080/"
        },
        "id": "VB-ppybFjZ01",
        "outputId": "5a5d8487-78df-4cea-d25b-6024859c12c2"
      },
      "outputs": [
        {
          "output_type": "stream",
          "name": "stdout",
          "text": [
            "<class 'pandas.core.frame.DataFrame'>\n",
            "RangeIndex: 26872 entries, 0 to 26871\n",
            "Data columns (total 5 columns):\n",
            " #   Column     Non-Null Count  Dtype \n",
            "---  ------     --------------  ----- \n",
            " 0   flags      26872 non-null  object\n",
            " 1   utterance  26872 non-null  object\n",
            " 2   category   26872 non-null  object\n",
            " 3   intent     26872 non-null  object\n",
            " 4   response   26872 non-null  object\n",
            "dtypes: object(5)\n",
            "memory usage: 1.0+ MB\n"
          ]
        },
        {
          "output_type": "execute_result",
          "data": {
            "text/plain": [
              "(   flags                                          utterance category  \\\n",
              " 0      B   question about cancelling order {{Order Number}}    ORDER   \n",
              " 1    BQZ  i have a question about cancelling oorder {{Or...    ORDER   \n",
              " 2   BLQZ    i need help cancelling puchase {{Order Number}}    ORDER   \n",
              " 3     BL         I need to cancel purchase {{Order Number}}    ORDER   \n",
              " 4  BCELN  I cannot afford this order, cancel purchase {{...    ORDER   \n",
              " \n",
              "          intent                                           response  \n",
              " 0  cancel_order  I've understood you have a question regarding ...  \n",
              " 1  cancel_order  I've been informed that you have a question ab...  \n",
              " 2  cancel_order  I can sense that you're seeking assistance wit...  \n",
              " 3  cancel_order  I understood that you need assistance with can...  \n",
              " 4  cancel_order  I'm sensitive to the fact that you're facing f...  ,\n",
              " None)"
            ]
          },
          "metadata": {},
          "execution_count": 2
        }
      ],
      "source": [
        "import pandas as pd\n",
        "\n",
        "# ambil file dari drive\n",
        "file_path = 'drive/MyDrive/Koding/CS-Chatbot/dataset-w-response.csv'\n",
        "data = pd.read_csv(file_path)\n",
        "\n",
        "# info dataset\n",
        "data.head(), data.info()\n"
      ]
    },
    {
      "cell_type": "code",
      "source": [
        "data['response'][111]"
      ],
      "metadata": {
        "colab": {
          "base_uri": "https://localhost:8080/",
          "height": 191
        },
        "id": "VP2FtoKw5e_z",
        "outputId": "ac943254-84c2-462b-9d53-bd98b7fd4036"
      },
      "execution_count": null,
      "outputs": [
        {
          "output_type": "execute_result",
          "data": {
            "text/plain": [
              "\"I'm sorry to hear that you're having difficulties canceling your purchase with the order number {{Order Number}}. I understand how frustrating this can be, and I'm here to assist you in resolving this issue. \\n\\nTo proceed with the cancellation process, please follow these steps:\\n\\n1. Sign in to your account: Access our platform by logging in to your {{Online Company Portal Info}}.\\n2. Go to your order history: Once logged in, navigate to the '{{Online Order Interaction}}' or '{{Online Order Interaction}}' section.\\n3. Locate the specific purchase: Look for the purchase associated with the order number {{Order Number}} and click on it.\\n4. Initiate cancellation: You will find a '{{Online Order Interaction}}' option or a similar button. Click on it to start the cancellation process.\\n5. Follow any additional instructions: The system may prompt you for additional information or provide further instructions. Please follow them carefully to complete the cancellation process successfully.\\n\\nIf you encounter any further difficulties or have any questions, please don't hesitate to reach out to our dedicated support team. You can contact us during {{Customer Support Hours}} at {{Customer Support Phone Number}} or use the Live Chat feature on our {{Website URL}}. We are committed to resolving this issue for you and ensuring your satisfaction.\""
            ],
            "application/vnd.google.colaboratory.intrinsic+json": {
              "type": "string"
            }
          },
          "metadata": {},
          "execution_count": 3
        }
      ]
    },
    {
      "cell_type": "code",
      "source": [
        "from sklearn.model_selection import train_test_split\n",
        "from sklearn.preprocessing import LabelEncoder\n",
        "import re\n",
        "\n",
        "# menghapus data yang tidak diperlukan\n",
        "data['utterance_cleaned'] = data['utterance'].apply(lambda x: re.sub(r'[^a-zA-Z0-9\\s]', '', str(x)).strip().lower())\n",
        "\n",
        "# mengubah data intent menjadi numerik dengan label encoder\n",
        "label_encoder = LabelEncoder()\n",
        "data['intent_encoded'] = label_encoder.fit_transform(data['intent'])\n",
        "\n",
        "# memisahkan data train dan test\n",
        "X_train, X_test, y_train, y_test = train_test_split(data['utterance_cleaned'], data['intent_encoded'], test_size=0.2, random_state=42)\n",
        "\n",
        "# menampilkan data yang telah dibersihkan\n",
        "data[['utterance_cleaned', 'intent', 'intent_encoded']].head(), label_encoder.classes_, X_train.shape, X_test.shape\n"
      ],
      "metadata": {
        "colab": {
          "base_uri": "https://localhost:8080/"
        },
        "id": "-2iWHn9Wn1m-",
        "outputId": "8fab8bb5-6611-4a91-8831-23e03776c9d8"
      },
      "execution_count": null,
      "outputs": [
        {
          "output_type": "execute_result",
          "data": {
            "text/plain": [
              "(                                   utterance_cleaned        intent  \\\n",
              " 0       question about cancelling order order number  cancel_order   \n",
              " 1  i have a question about cancelling oorder orde...  cancel_order   \n",
              " 2        i need help cancelling puchase order number  cancel_order   \n",
              " 3             i need to cancel purchase order number  cancel_order   \n",
              " 4  i cannot afford this order cancel purchase ord...  cancel_order   \n",
              " \n",
              "    intent_encoded  \n",
              " 0               0  \n",
              " 1               0  \n",
              " 2               0  \n",
              " 3               0  \n",
              " 4               0  ,\n",
              " array(['cancel_order', 'change_order', 'change_shipping_address',\n",
              "        'check_cancellation_fee', 'check_invoice', 'check_payment_methods',\n",
              "        'check_refund_policy', 'complaint', 'contact_customer_service',\n",
              "        'contact_human_agent', 'create_account', 'delete_account',\n",
              "        'delivery_options', 'delivery_period', 'edit_account',\n",
              "        'get_invoice', 'get_refund', 'newsletter_subscription',\n",
              "        'payment_issue', 'place_order', 'recover_password',\n",
              "        'registration_problems', 'review', 'set_up_shipping_address',\n",
              "        'switch_account', 'track_order', 'track_refund'], dtype=object),\n",
              " (21497,),\n",
              " (5375,))"
            ]
          },
          "metadata": {},
          "execution_count": 4
        }
      ]
    },
    {
      "cell_type": "code",
      "source": [
        "from sklearn.feature_extraction.text import TfidfVectorizer\n",
        "from sklearn.linear_model import LogisticRegression\n",
        "from sklearn.pipeline import Pipeline\n",
        "from sklearn.metrics import classification_report, accuracy_score\n",
        "\n",
        "# jenis model pipeline dengan model logistic regression\n",
        "pipeline = Pipeline([\n",
        "    ('tfidf', TfidfVectorizer()),\n",
        "    ('clf', LogisticRegression(max_iter=200))\n",
        "])\n",
        "\n",
        "# melatih model pipeline\n",
        "pipeline.fit(X_train, y_train)\n",
        "\n",
        "# memprediksi test\n",
        "y_pred = pipeline.predict(X_test)\n",
        "\n",
        "# mengevaluasi model\n",
        "accuracy = accuracy_score(y_test, y_pred)\n",
        "report = classification_report(y_test, y_pred, target_names=label_encoder.classes_)\n",
        "\n",
        "accuracy, report\n"
      ],
      "metadata": {
        "colab": {
          "base_uri": "https://localhost:8080/"
        },
        "id": "p97eS1AYn68I",
        "outputId": "5cab0dac-fcec-4e9f-e8ba-946172a8914d"
      },
      "execution_count": null,
      "outputs": [
        {
          "output_type": "execute_result",
          "data": {
            "text/plain": [
              "(0.9929302325581395,\n",
              " '                          precision    recall  f1-score   support\\n\\n            cancel_order       0.99      0.98      0.99       187\\n            change_order       0.96      0.98      0.97       187\\n change_shipping_address       0.99      1.00      1.00       216\\n  check_cancellation_fee       1.00      1.00      1.00       199\\n           check_invoice       0.96      0.99      0.98       192\\n   check_payment_methods       1.00      1.00      1.00       206\\n     check_refund_policy       1.00      1.00      1.00       200\\n               complaint       1.00      1.00      1.00       203\\ncontact_customer_service       1.00      0.99      0.99       208\\n     contact_human_agent       0.99      1.00      1.00       201\\n          create_account       1.00      0.98      0.99       217\\n          delete_account       0.98      1.00      0.99       178\\n        delivery_options       1.00      1.00      1.00       218\\n         delivery_period       0.99      1.00      1.00       171\\n            edit_account       0.99      1.00      1.00       186\\n             get_invoice       1.00      0.97      0.98       215\\n              get_refund       0.99      0.99      0.99       196\\n newsletter_subscription       1.00      1.00      1.00       166\\n           payment_issue       1.00      0.98      0.99       204\\n             place_order       0.99      0.98      0.99       191\\n        recover_password       1.00      1.00      1.00       191\\n   registration_problems       0.99      1.00      0.99       204\\n                  review       1.00      1.00      1.00       224\\n set_up_shipping_address       1.00      0.99      0.99       228\\n          switch_account       1.00      1.00      1.00       184\\n             track_order       0.99      0.97      0.98       198\\n            track_refund       1.00      1.00      1.00       205\\n\\n                accuracy                           0.99      5375\\n               macro avg       0.99      0.99      0.99      5375\\n            weighted avg       0.99      0.99      0.99      5375\\n')"
            ]
          },
          "metadata": {},
          "execution_count": 5
        }
      ]
    },
    {
      "cell_type": "code",
      "source": [
        "# menampilkan jenis jenis intent\n",
        "print(label_encoder.classes_)"
      ],
      "metadata": {
        "colab": {
          "base_uri": "https://localhost:8080/"
        },
        "id": "uDoATSg7uGRg",
        "outputId": "29016d48-3be1-4df7-92a2-edf31a981a44"
      },
      "execution_count": null,
      "outputs": [
        {
          "output_type": "stream",
          "name": "stdout",
          "text": [
            "['cancel_order' 'change_order' 'change_shipping_address'\n",
            " 'check_cancellation_fee' 'check_invoice' 'check_payment_methods'\n",
            " 'check_refund_policy' 'complaint' 'contact_customer_service'\n",
            " 'contact_human_agent' 'create_account' 'delete_account'\n",
            " 'delivery_options' 'delivery_period' 'edit_account' 'get_invoice'\n",
            " 'get_refund' 'newsletter_subscription' 'payment_issue' 'place_order'\n",
            " 'recover_password' 'registration_problems' 'review'\n",
            " 'set_up_shipping_address' 'switch_account' 'track_order' 'track_refund']\n"
          ]
        }
      ]
    },
    {
      "cell_type": "code",
      "source": [
        "# banyak jenis intent\n",
        "print(len(label_encoder.classes_))"
      ],
      "metadata": {
        "colab": {
          "base_uri": "https://localhost:8080/"
        },
        "id": "ivu6wH0jHXYf",
        "outputId": "073f64f5-8f0d-4570-f37e-cd580cdf58a1"
      },
      "execution_count": null,
      "outputs": [
        {
          "output_type": "stream",
          "name": "stdout",
          "text": [
            "27\n"
          ]
        }
      ]
    },
    {
      "cell_type": "code",
      "source": [
        "# contoh data intent dgn index ke sekian-\n",
        "print(data['intent'][500])"
      ],
      "metadata": {
        "colab": {
          "base_uri": "https://localhost:8080/"
        },
        "id": "vngSlsRwHofz",
        "outputId": "84659fa1-2ca7-4e58-a7f9-504356024e71"
      },
      "execution_count": null,
      "outputs": [
        {
          "output_type": "stream",
          "name": "stdout",
          "text": [
            "cancel_order\n"
          ]
        }
      ]
    },
    {
      "cell_type": "code",
      "source": [
        "# df dari banyak data per intent\n",
        "intent_counts = data['intent'].value_counts(sort=False)\n",
        "intent_counts"
      ],
      "metadata": {
        "colab": {
          "base_uri": "https://localhost:8080/",
          "height": 962
        },
        "id": "HJs4H9hHbfXK",
        "outputId": "b772684c-471a-4ca9-b77b-103366eb083d"
      },
      "execution_count": null,
      "outputs": [
        {
          "output_type": "execute_result",
          "data": {
            "text/plain": [
              "intent\n",
              "cancel_order                 998\n",
              "change_order                 997\n",
              "change_shipping_address      973\n",
              "check_cancellation_fee       950\n",
              "check_invoice               1000\n",
              "check_payment_methods        999\n",
              "check_refund_policy          997\n",
              "complaint                   1000\n",
              "contact_customer_service    1000\n",
              "contact_human_agent          999\n",
              "create_account               997\n",
              "delete_account               995\n",
              "delivery_options             995\n",
              "delivery_period              999\n",
              "edit_account                1000\n",
              "get_invoice                  999\n",
              "get_refund                   997\n",
              "newsletter_subscription      999\n",
              "payment_issue                999\n",
              "place_order                  998\n",
              "recover_password             995\n",
              "registration_problems        999\n",
              "review                       997\n",
              "set_up_shipping_address      997\n",
              "switch_account              1000\n",
              "track_order                  995\n",
              "track_refund                 998\n",
              "Name: count, dtype: int64"
            ],
            "text/html": [
              "<div>\n",
              "<style scoped>\n",
              "    .dataframe tbody tr th:only-of-type {\n",
              "        vertical-align: middle;\n",
              "    }\n",
              "\n",
              "    .dataframe tbody tr th {\n",
              "        vertical-align: top;\n",
              "    }\n",
              "\n",
              "    .dataframe thead th {\n",
              "        text-align: right;\n",
              "    }\n",
              "</style>\n",
              "<table border=\"1\" class=\"dataframe\">\n",
              "  <thead>\n",
              "    <tr style=\"text-align: right;\">\n",
              "      <th></th>\n",
              "      <th>count</th>\n",
              "    </tr>\n",
              "    <tr>\n",
              "      <th>intent</th>\n",
              "      <th></th>\n",
              "    </tr>\n",
              "  </thead>\n",
              "  <tbody>\n",
              "    <tr>\n",
              "      <th>cancel_order</th>\n",
              "      <td>998</td>\n",
              "    </tr>\n",
              "    <tr>\n",
              "      <th>change_order</th>\n",
              "      <td>997</td>\n",
              "    </tr>\n",
              "    <tr>\n",
              "      <th>change_shipping_address</th>\n",
              "      <td>973</td>\n",
              "    </tr>\n",
              "    <tr>\n",
              "      <th>check_cancellation_fee</th>\n",
              "      <td>950</td>\n",
              "    </tr>\n",
              "    <tr>\n",
              "      <th>check_invoice</th>\n",
              "      <td>1000</td>\n",
              "    </tr>\n",
              "    <tr>\n",
              "      <th>check_payment_methods</th>\n",
              "      <td>999</td>\n",
              "    </tr>\n",
              "    <tr>\n",
              "      <th>check_refund_policy</th>\n",
              "      <td>997</td>\n",
              "    </tr>\n",
              "    <tr>\n",
              "      <th>complaint</th>\n",
              "      <td>1000</td>\n",
              "    </tr>\n",
              "    <tr>\n",
              "      <th>contact_customer_service</th>\n",
              "      <td>1000</td>\n",
              "    </tr>\n",
              "    <tr>\n",
              "      <th>contact_human_agent</th>\n",
              "      <td>999</td>\n",
              "    </tr>\n",
              "    <tr>\n",
              "      <th>create_account</th>\n",
              "      <td>997</td>\n",
              "    </tr>\n",
              "    <tr>\n",
              "      <th>delete_account</th>\n",
              "      <td>995</td>\n",
              "    </tr>\n",
              "    <tr>\n",
              "      <th>delivery_options</th>\n",
              "      <td>995</td>\n",
              "    </tr>\n",
              "    <tr>\n",
              "      <th>delivery_period</th>\n",
              "      <td>999</td>\n",
              "    </tr>\n",
              "    <tr>\n",
              "      <th>edit_account</th>\n",
              "      <td>1000</td>\n",
              "    </tr>\n",
              "    <tr>\n",
              "      <th>get_invoice</th>\n",
              "      <td>999</td>\n",
              "    </tr>\n",
              "    <tr>\n",
              "      <th>get_refund</th>\n",
              "      <td>997</td>\n",
              "    </tr>\n",
              "    <tr>\n",
              "      <th>newsletter_subscription</th>\n",
              "      <td>999</td>\n",
              "    </tr>\n",
              "    <tr>\n",
              "      <th>payment_issue</th>\n",
              "      <td>999</td>\n",
              "    </tr>\n",
              "    <tr>\n",
              "      <th>place_order</th>\n",
              "      <td>998</td>\n",
              "    </tr>\n",
              "    <tr>\n",
              "      <th>recover_password</th>\n",
              "      <td>995</td>\n",
              "    </tr>\n",
              "    <tr>\n",
              "      <th>registration_problems</th>\n",
              "      <td>999</td>\n",
              "    </tr>\n",
              "    <tr>\n",
              "      <th>review</th>\n",
              "      <td>997</td>\n",
              "    </tr>\n",
              "    <tr>\n",
              "      <th>set_up_shipping_address</th>\n",
              "      <td>997</td>\n",
              "    </tr>\n",
              "    <tr>\n",
              "      <th>switch_account</th>\n",
              "      <td>1000</td>\n",
              "    </tr>\n",
              "    <tr>\n",
              "      <th>track_order</th>\n",
              "      <td>995</td>\n",
              "    </tr>\n",
              "    <tr>\n",
              "      <th>track_refund</th>\n",
              "      <td>998</td>\n",
              "    </tr>\n",
              "  </tbody>\n",
              "</table>\n",
              "</div><br><label><b>dtype:</b> int64</label>"
            ]
          },
          "metadata": {},
          "execution_count": 9
        }
      ]
    },
    {
      "cell_type": "code",
      "source": [
        "# cumulative dari banyak data intent\n",
        "cumulative = intent_counts.cumsum()\n",
        "cumulative"
      ],
      "metadata": {
        "colab": {
          "base_uri": "https://localhost:8080/",
          "height": 962
        },
        "id": "yTZNBW9-KPYS",
        "outputId": "d9b40d98-1b1e-456b-931f-c4f6388a05cb"
      },
      "execution_count": null,
      "outputs": [
        {
          "output_type": "execute_result",
          "data": {
            "text/plain": [
              "intent\n",
              "cancel_order                  998\n",
              "change_order                 1995\n",
              "change_shipping_address      2968\n",
              "check_cancellation_fee       3918\n",
              "check_invoice                4918\n",
              "check_payment_methods        5917\n",
              "check_refund_policy          6914\n",
              "complaint                    7914\n",
              "contact_customer_service     8914\n",
              "contact_human_agent          9913\n",
              "create_account              10910\n",
              "delete_account              11905\n",
              "delivery_options            12900\n",
              "delivery_period             13899\n",
              "edit_account                14899\n",
              "get_invoice                 15898\n",
              "get_refund                  16895\n",
              "newsletter_subscription     17894\n",
              "payment_issue               18893\n",
              "place_order                 19891\n",
              "recover_password            20886\n",
              "registration_problems       21885\n",
              "review                      22882\n",
              "set_up_shipping_address     23879\n",
              "switch_account              24879\n",
              "track_order                 25874\n",
              "track_refund                26872\n",
              "Name: count, dtype: int64"
            ],
            "text/html": [
              "<div>\n",
              "<style scoped>\n",
              "    .dataframe tbody tr th:only-of-type {\n",
              "        vertical-align: middle;\n",
              "    }\n",
              "\n",
              "    .dataframe tbody tr th {\n",
              "        vertical-align: top;\n",
              "    }\n",
              "\n",
              "    .dataframe thead th {\n",
              "        text-align: right;\n",
              "    }\n",
              "</style>\n",
              "<table border=\"1\" class=\"dataframe\">\n",
              "  <thead>\n",
              "    <tr style=\"text-align: right;\">\n",
              "      <th></th>\n",
              "      <th>count</th>\n",
              "    </tr>\n",
              "    <tr>\n",
              "      <th>intent</th>\n",
              "      <th></th>\n",
              "    </tr>\n",
              "  </thead>\n",
              "  <tbody>\n",
              "    <tr>\n",
              "      <th>cancel_order</th>\n",
              "      <td>998</td>\n",
              "    </tr>\n",
              "    <tr>\n",
              "      <th>change_order</th>\n",
              "      <td>1995</td>\n",
              "    </tr>\n",
              "    <tr>\n",
              "      <th>change_shipping_address</th>\n",
              "      <td>2968</td>\n",
              "    </tr>\n",
              "    <tr>\n",
              "      <th>check_cancellation_fee</th>\n",
              "      <td>3918</td>\n",
              "    </tr>\n",
              "    <tr>\n",
              "      <th>check_invoice</th>\n",
              "      <td>4918</td>\n",
              "    </tr>\n",
              "    <tr>\n",
              "      <th>check_payment_methods</th>\n",
              "      <td>5917</td>\n",
              "    </tr>\n",
              "    <tr>\n",
              "      <th>check_refund_policy</th>\n",
              "      <td>6914</td>\n",
              "    </tr>\n",
              "    <tr>\n",
              "      <th>complaint</th>\n",
              "      <td>7914</td>\n",
              "    </tr>\n",
              "    <tr>\n",
              "      <th>contact_customer_service</th>\n",
              "      <td>8914</td>\n",
              "    </tr>\n",
              "    <tr>\n",
              "      <th>contact_human_agent</th>\n",
              "      <td>9913</td>\n",
              "    </tr>\n",
              "    <tr>\n",
              "      <th>create_account</th>\n",
              "      <td>10910</td>\n",
              "    </tr>\n",
              "    <tr>\n",
              "      <th>delete_account</th>\n",
              "      <td>11905</td>\n",
              "    </tr>\n",
              "    <tr>\n",
              "      <th>delivery_options</th>\n",
              "      <td>12900</td>\n",
              "    </tr>\n",
              "    <tr>\n",
              "      <th>delivery_period</th>\n",
              "      <td>13899</td>\n",
              "    </tr>\n",
              "    <tr>\n",
              "      <th>edit_account</th>\n",
              "      <td>14899</td>\n",
              "    </tr>\n",
              "    <tr>\n",
              "      <th>get_invoice</th>\n",
              "      <td>15898</td>\n",
              "    </tr>\n",
              "    <tr>\n",
              "      <th>get_refund</th>\n",
              "      <td>16895</td>\n",
              "    </tr>\n",
              "    <tr>\n",
              "      <th>newsletter_subscription</th>\n",
              "      <td>17894</td>\n",
              "    </tr>\n",
              "    <tr>\n",
              "      <th>payment_issue</th>\n",
              "      <td>18893</td>\n",
              "    </tr>\n",
              "    <tr>\n",
              "      <th>place_order</th>\n",
              "      <td>19891</td>\n",
              "    </tr>\n",
              "    <tr>\n",
              "      <th>recover_password</th>\n",
              "      <td>20886</td>\n",
              "    </tr>\n",
              "    <tr>\n",
              "      <th>registration_problems</th>\n",
              "      <td>21885</td>\n",
              "    </tr>\n",
              "    <tr>\n",
              "      <th>review</th>\n",
              "      <td>22882</td>\n",
              "    </tr>\n",
              "    <tr>\n",
              "      <th>set_up_shipping_address</th>\n",
              "      <td>23879</td>\n",
              "    </tr>\n",
              "    <tr>\n",
              "      <th>switch_account</th>\n",
              "      <td>24879</td>\n",
              "    </tr>\n",
              "    <tr>\n",
              "      <th>track_order</th>\n",
              "      <td>25874</td>\n",
              "    </tr>\n",
              "    <tr>\n",
              "      <th>track_refund</th>\n",
              "      <td>26872</td>\n",
              "    </tr>\n",
              "  </tbody>\n",
              "</table>\n",
              "</div><br><label><b>dtype:</b> int64</label>"
            ]
          },
          "metadata": {},
          "execution_count": 10
        }
      ]
    },
    {
      "cell_type": "code",
      "source": [
        "import random\n",
        "def get_RandomInInterval(data, index):\n",
        "  # membaca csv jika data masih dalam csv\n",
        "  if type(data) == str:\n",
        "    data = pd.read_csv(data)\n",
        "\n",
        "  # membuat dataframe banyak data per jenis intent\n",
        "  intent_counts = data['intent'].value_counts(sort=False)\n",
        "\n",
        "  # membuat cumulative dari banyak data pada intent_counts (digunakan untuk mencari index yg diingingkan)\n",
        "  cumulative = intent_counts.cumsum()\n",
        "\n",
        "  # menentukan batas kiri dari random\n",
        "  if index == 0:\n",
        "    left_interval = 0\n",
        "  else:\n",
        "    left_interval = cumulative[index - 1]\n",
        "\n",
        "  # menentukan panjang interval\n",
        "  interval = intent_counts[index]\n",
        "\n",
        "  # menentukan batas kanan\n",
        "  right_interval = left_interval + interval - 1\n",
        "\n",
        "  #membuat random index diantara interval\n",
        "  output = random.randint(left_interval , right_interval)\n",
        "  return output\n",
        "\n",
        "get_RandomInInterval(data, 2)"
      ],
      "metadata": {
        "colab": {
          "base_uri": "https://localhost:8080/"
        },
        "id": "hNWbdv8gKTZG",
        "outputId": "b8884ffc-8edd-4adf-9ae1-8fa0456bbf28"
      },
      "execution_count": null,
      "outputs": [
        {
          "output_type": "stream",
          "name": "stderr",
          "text": [
            "<ipython-input-12-6cf68f60d9a9>:17: FutureWarning: Series.__getitem__ treating keys as positions is deprecated. In a future version, integer keys will always be treated as labels (consistent with DataFrame behavior). To access a value by position, use `ser.iloc[pos]`\n",
            "  left_interval = cumulative[index - 1]\n",
            "<ipython-input-12-6cf68f60d9a9>:20: FutureWarning: Series.__getitem__ treating keys as positions is deprecated. In a future version, integer keys will always be treated as labels (consistent with DataFrame behavior). To access a value by position, use `ser.iloc[pos]`\n",
            "  interval = intent_counts[index]\n"
          ]
        },
        {
          "output_type": "execute_result",
          "data": {
            "text/plain": [
              "2704"
            ]
          },
          "metadata": {},
          "execution_count": 12
        }
      ]
    },
    {
      "cell_type": "code",
      "source": [
        "def chatbot_response(user_input):\n",
        "    # Membersihkan input user\n",
        "    cleaned_input = re.sub(r'[^a-zA-Z0-9\\s]', '', user_input).strip().lower()\n",
        "\n",
        "    # Memprediksi intent atau tujuan dengan model\n",
        "    predicted_intent_encoded = pipeline.predict([cleaned_input])[0]\n",
        "\n",
        "    # mengubah intent menjadi label\n",
        "    predicted_intent = label_encoder.inverse_transform([predicted_intent_encoded])[0]\n",
        "\n",
        "    # menghitung index dari response random berdasarkan tipe intent\n",
        "    index = get_RandomInInterval(data, predicted_intent_encoded)\n",
        "\n",
        "    # memberikan output berupa response random berdasarkan tipe intent\n",
        "    output = data['response'][index]\n",
        "\n",
        "    return output\n",
        "\n",
        "\n",
        "# Contoh Penggunaan:\n",
        "print(chatbot_response(\"how can i cancel order?.\"))"
      ],
      "metadata": {
        "colab": {
          "base_uri": "https://localhost:8080/"
        },
        "id": "buNBEilln-6L",
        "outputId": "a033cd11-ffd9-4ece-e196-ee08627063e4"
      },
      "execution_count": null,
      "outputs": [
        {
          "output_type": "stream",
          "name": "stdout",
          "text": [
            "I certainly recognize that you no longer want to proceed with your order with the order number {{Order Number}}. I'm here to assist you in canceling it promptly and smoothly.\n",
            "\n",
            "To cancel your order, please follow these steps:\n",
            "\n",
            "1. Sign in to Your Account: Access our platform by signing in to your {{Online Company Portal Info}}.\n",
            "2. Locate Your Order: Navigate to the '{{Online Order Interaction}}' or '{{Online Order Interaction}}' section to find your order.\n",
            "3. Select the Order: Look for the specific order with the order number {{Order Number}} and click on it.\n",
            "4. Initiate the Cancellation: You should see an option labeled '{{Online Order Interaction}}' associated with your purchase. Please select this to begin the cancellation process.\n",
            "5. Confirm the Cancellation: The system may ask you to confirm the cancellation. Follow the prompts and provide any necessary feedback.\n",
            "\n",
            "If you encounter any difficulties or have any further questions, our dedicated team is available to assist you during {{Customer Support Hours}}. Feel free to reach out to us at {{Customer Support Phone Number}} or use the Live Chat feature on our {{Website URL}}.\n",
            "\n",
            "We appreciate your understanding and apologize for any inconvenience caused.\n"
          ]
        },
        {
          "output_type": "stream",
          "name": "stderr",
          "text": [
            "<ipython-input-12-6cf68f60d9a9>:20: FutureWarning: Series.__getitem__ treating keys as positions is deprecated. In a future version, integer keys will always be treated as labels (consistent with DataFrame behavior). To access a value by position, use `ser.iloc[pos]`\n",
            "  interval = intent_counts[index]\n"
          ]
        }
      ]
    }
  ]
}